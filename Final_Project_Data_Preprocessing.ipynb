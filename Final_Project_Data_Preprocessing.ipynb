{
  "nbformat": 4,
  "nbformat_minor": 0,
  "metadata": {
    "colab": {
      "provenance": [],
      "collapsed_sections": [],
      "mount_file_id": "1yef2UDY3y6KtAucnlutHndkS4W8DBLiy",
      "authorship_tag": "ABX9TyMUukA6SFpuJsUu6z+TT98m",
      "include_colab_link": true
    },
    "kernelspec": {
      "name": "python3",
      "display_name": "Python 3"
    },
    "language_info": {
      "name": "python"
    }
  },
  "cells": [
    {
      "cell_type": "markdown",
      "metadata": {
        "id": "view-in-github",
        "colab_type": "text"
      },
      "source": [
        "<a href=\"https://colab.research.google.com/github/EmmaCOo/ADS509_Text_Mining_Final_Project/blob/main/Final_Project_Data_Preprocessing.ipynb\" target=\"_parent\"><img src=\"https://colab.research.google.com/assets/colab-badge.svg\" alt=\"Open In Colab\"/></a>"
      ]
    },
    {
      "cell_type": "markdown",
      "source": [
        "###**ADS509_TEXT_MINING_FINAL_PROJECT - DATA PREPROCESSING**\n",
        "\n",
        "**EMMA OO**\n",
        "\n"
      ],
      "metadata": {
        "id": "3geOvgsJ6axU"
      }
    },
    {
      "cell_type": "code",
      "source": [
        "!pip install emoji==1.7"
      ],
      "metadata": {
        "colab": {
          "base_uri": "https://localhost:8080/"
        },
        "id": "d0MEV_o3BTZ5",
        "outputId": "bb3441ab-f493-4c98-9fe9-476d8167acd5"
      },
      "execution_count": null,
      "outputs": [
        {
          "output_type": "stream",
          "name": "stdout",
          "text": [
            "Looking in indexes: https://pypi.org/simple, https://us-python.pkg.dev/colab-wheels/public/simple/\n",
            "Requirement already satisfied: emoji==1.7 in /usr/local/lib/python3.7/dist-packages (1.7.0)\n"
          ]
        }
      ]
    },
    {
      "cell_type": "code",
      "execution_count": null,
      "metadata": {
        "colab": {
          "base_uri": "https://localhost:8080/"
        },
        "id": "pLdjwyb5Anuw",
        "outputId": "cd5fdf7d-9d40-4684-d5b8-5d3fc85fced8"
      },
      "outputs": [
        {
          "output_type": "stream",
          "name": "stderr",
          "text": [
            "[nltk_data] Downloading package stopwords to /root/nltk_data...\n",
            "[nltk_data]   Package stopwords is already up-to-date!\n"
          ]
        }
      ],
      "source": [
        "import os\n",
        "import re\n",
        "import emoji\n",
        "import pandas as pd\n",
        "import numpy as np\n",
        "\n",
        "from collections import Counter, defaultdict\n",
        "from nltk.corpus import stopwords\n",
        "from string import punctuation\n",
        "\n",
        "import nltk\n",
        "nltk.download('stopwords')\n",
        "\n",
        "sw = stopwords.words(\"english\")"
      ]
    },
    {
      "cell_type": "code",
      "source": [
        "#load all csv files\n",
        "burger = pd.read_csv('/content/drive/MyDrive/Text_Mining_Final_Project/burgerk.csv')\n",
        "jackbox = pd.read_csv('/content/drive/MyDrive/Text_Mining_Final_Project/jack.csv')\n",
        "innout = pd.read_csv('/content/drive/MyDrive/Text_Mining_Final_Project/innout.csv')\n",
        "chickfila = pd.read_csv('/content/drive/MyDrive/Text_Mining_Final_Project/chickfila.csv')\n",
        "sonic = pd.read_csv('/content/drive/MyDrive/Text_Mining_Final_Project/sonic.csv')"
      ],
      "metadata": {
        "id": "DQ9oM9WwBNZX"
      },
      "execution_count": null,
      "outputs": []
    },
    {
      "cell_type": "code",
      "source": [
        "#Add the class columns to each dataframe\n",
        "burger['name'] = 'BurgerKing'\n",
        "jackbox['name'] = 'JackInTheBox'\n",
        "innout['name'] = 'Inn-N-Out'\n",
        "chickfila['name'] = 'Chick-Fil-A'\n",
        "sonic['name'] = 'Sonic'"
      ],
      "metadata": {
        "id": "-csF3-dDDVAz"
      },
      "execution_count": null,
      "outputs": []
    },
    {
      "cell_type": "code",
      "source": [
        "#Merge all dataframes\n",
        "frames = [burger,jackbox, innout, chickfila, sonic]\n",
        "df = pd.concat(frames)\n",
        "df.shape"
      ],
      "metadata": {
        "colab": {
          "base_uri": "https://localhost:8080/"
        },
        "id": "HEsk4K8kDebJ",
        "outputId": "acb165cb-96c9-4b11-f793-e6eefe7d6406"
      },
      "execution_count": null,
      "outputs": [
        {
          "output_type": "execute_result",
          "data": {
            "text/plain": [
              "(56176, 8)"
            ]
          },
          "metadata": {},
          "execution_count": 5
        }
      ]
    },
    {
      "cell_type": "code",
      "source": [
        "#save only the unique followers to avoid the followers that follow more than one burger chains\n",
        "clean_df =  df.groupby('screen_name').filter(lambda x : len(x)<=1)\n",
        "clean_df.shape"
      ],
      "metadata": {
        "colab": {
          "base_uri": "https://localhost:8080/"
        },
        "id": "FQ4xbwqTJpPF",
        "outputId": "469c4c9f-5b33-4a82-dc4d-6923994c0d5b"
      },
      "execution_count": null,
      "outputs": [
        {
          "output_type": "execute_result",
          "data": {
            "text/plain": [
              "(51113, 8)"
            ]
          },
          "metadata": {},
          "execution_count": 6
        }
      ]
    },
    {
      "cell_type": "code",
      "source": [
        "clean_df['screen_name'].describe()"
      ],
      "metadata": {
        "colab": {
          "base_uri": "https://localhost:8080/"
        },
        "id": "cguBGaOcKDfx",
        "outputId": "b64acf13-72d7-46c4-b56a-efcac15a7df9"
      },
      "execution_count": null,
      "outputs": [
        {
          "output_type": "execute_result",
          "data": {
            "text/plain": [
              "count           51113\n",
              "unique          51113\n",
              "top       chief_immhi\n",
              "freq                1\n",
              "Name: screen_name, dtype: object"
            ]
          },
          "metadata": {},
          "execution_count": 7
        }
      ]
    },
    {
      "cell_type": "code",
      "source": [
        "clean_df['name'].value_counts()"
      ],
      "metadata": {
        "colab": {
          "base_uri": "https://localhost:8080/"
        },
        "id": "1zCU8buKKmFg",
        "outputId": "8e6ee6a4-b8e6-4396-f686-1b428d46588d"
      },
      "execution_count": null,
      "outputs": [
        {
          "output_type": "execute_result",
          "data": {
            "text/plain": [
              "JackInTheBox    13541\n",
              "Chick-Fil-A     13360\n",
              "Sonic           10123\n",
              "Inn-N-Out        8202\n",
              "BurgerKing       5887\n",
              "Name: name, dtype: int64"
            ]
          },
          "metadata": {},
          "execution_count": 8
        }
      ]
    },
    {
      "cell_type": "code",
      "source": [
        "clean_df.head()"
      ],
      "metadata": {
        "colab": {
          "base_uri": "https://localhost:8080/",
          "height": 250
        },
        "id": "OIuRsxaxVca-",
        "outputId": "9f26814e-5821-40ef-a242-5b57087fc416"
      },
      "execution_count": null,
      "outputs": [
        {
          "output_type": "execute_result",
          "data": {
            "text/plain": [
              "                    ID   screen_name        name       location  \\\n",
              "0  1374753560659902468   chief_immhi  BurgerKing            NaN   \n",
              "1  1574533805871857666  VirtuAli8474  BurgerKing           Hell   \n",
              "3  1248367068895940608    nyc_misael  BurgerKing  New York, USA   \n",
              "4            365843255     Jillers86  BurgerKing         Canada   \n",
              "5  1457542240788693000  Prixnncess29  BurgerKing            NaN   \n",
              "\n",
              "   follower_count  friends_count  like_count  \\\n",
              "0              65            774         NaN   \n",
              "1               0            104         NaN   \n",
              "3               8            925         NaN   \n",
              "4            1250           1043         NaN   \n",
              "5              11             56         NaN   \n",
              "\n",
              "                                         description  \n",
              "0        Public journal | Getting 1% better everyday  \n",
              "1       He/They Gaymer Artist :D Discord: alii #8474  \n",
              "3                                                  🤨  \n",
              "4  Retired @Twitch OG, gamer, wife, fur mama, & #...  \n",
              "5                                                🇲🇽💞  "
            ],
            "text/html": [
              "\n",
              "  <div id=\"df-60287104-9b06-4891-bd86-87dd05ae7fed\">\n",
              "    <div class=\"colab-df-container\">\n",
              "      <div>\n",
              "<style scoped>\n",
              "    .dataframe tbody tr th:only-of-type {\n",
              "        vertical-align: middle;\n",
              "    }\n",
              "\n",
              "    .dataframe tbody tr th {\n",
              "        vertical-align: top;\n",
              "    }\n",
              "\n",
              "    .dataframe thead th {\n",
              "        text-align: right;\n",
              "    }\n",
              "</style>\n",
              "<table border=\"1\" class=\"dataframe\">\n",
              "  <thead>\n",
              "    <tr style=\"text-align: right;\">\n",
              "      <th></th>\n",
              "      <th>ID</th>\n",
              "      <th>screen_name</th>\n",
              "      <th>name</th>\n",
              "      <th>location</th>\n",
              "      <th>follower_count</th>\n",
              "      <th>friends_count</th>\n",
              "      <th>like_count</th>\n",
              "      <th>description</th>\n",
              "    </tr>\n",
              "  </thead>\n",
              "  <tbody>\n",
              "    <tr>\n",
              "      <th>0</th>\n",
              "      <td>1374753560659902468</td>\n",
              "      <td>chief_immhi</td>\n",
              "      <td>BurgerKing</td>\n",
              "      <td>NaN</td>\n",
              "      <td>65</td>\n",
              "      <td>774</td>\n",
              "      <td>NaN</td>\n",
              "      <td>Public journal | Getting 1% better everyday</td>\n",
              "    </tr>\n",
              "    <tr>\n",
              "      <th>1</th>\n",
              "      <td>1574533805871857666</td>\n",
              "      <td>VirtuAli8474</td>\n",
              "      <td>BurgerKing</td>\n",
              "      <td>Hell</td>\n",
              "      <td>0</td>\n",
              "      <td>104</td>\n",
              "      <td>NaN</td>\n",
              "      <td>He/They Gaymer Artist :D Discord: alii #8474</td>\n",
              "    </tr>\n",
              "    <tr>\n",
              "      <th>3</th>\n",
              "      <td>1248367068895940608</td>\n",
              "      <td>nyc_misael</td>\n",
              "      <td>BurgerKing</td>\n",
              "      <td>New York, USA</td>\n",
              "      <td>8</td>\n",
              "      <td>925</td>\n",
              "      <td>NaN</td>\n",
              "      <td>🤨</td>\n",
              "    </tr>\n",
              "    <tr>\n",
              "      <th>4</th>\n",
              "      <td>365843255</td>\n",
              "      <td>Jillers86</td>\n",
              "      <td>BurgerKing</td>\n",
              "      <td>Canada</td>\n",
              "      <td>1250</td>\n",
              "      <td>1043</td>\n",
              "      <td>NaN</td>\n",
              "      <td>Retired @Twitch OG, gamer, wife, fur mama, &amp; #...</td>\n",
              "    </tr>\n",
              "    <tr>\n",
              "      <th>5</th>\n",
              "      <td>1457542240788693000</td>\n",
              "      <td>Prixnncess29</td>\n",
              "      <td>BurgerKing</td>\n",
              "      <td>NaN</td>\n",
              "      <td>11</td>\n",
              "      <td>56</td>\n",
              "      <td>NaN</td>\n",
              "      <td>🇲🇽💞</td>\n",
              "    </tr>\n",
              "  </tbody>\n",
              "</table>\n",
              "</div>\n",
              "      <button class=\"colab-df-convert\" onclick=\"convertToInteractive('df-60287104-9b06-4891-bd86-87dd05ae7fed')\"\n",
              "              title=\"Convert this dataframe to an interactive table.\"\n",
              "              style=\"display:none;\">\n",
              "        \n",
              "  <svg xmlns=\"http://www.w3.org/2000/svg\" height=\"24px\"viewBox=\"0 0 24 24\"\n",
              "       width=\"24px\">\n",
              "    <path d=\"M0 0h24v24H0V0z\" fill=\"none\"/>\n",
              "    <path d=\"M18.56 5.44l.94 2.06.94-2.06 2.06-.94-2.06-.94-.94-2.06-.94 2.06-2.06.94zm-11 1L8.5 8.5l.94-2.06 2.06-.94-2.06-.94L8.5 2.5l-.94 2.06-2.06.94zm10 10l.94 2.06.94-2.06 2.06-.94-2.06-.94-.94-2.06-.94 2.06-2.06.94z\"/><path d=\"M17.41 7.96l-1.37-1.37c-.4-.4-.92-.59-1.43-.59-.52 0-1.04.2-1.43.59L10.3 9.45l-7.72 7.72c-.78.78-.78 2.05 0 2.83L4 21.41c.39.39.9.59 1.41.59.51 0 1.02-.2 1.41-.59l7.78-7.78 2.81-2.81c.8-.78.8-2.07 0-2.86zM5.41 20L4 18.59l7.72-7.72 1.47 1.35L5.41 20z\"/>\n",
              "  </svg>\n",
              "      </button>\n",
              "      \n",
              "  <style>\n",
              "    .colab-df-container {\n",
              "      display:flex;\n",
              "      flex-wrap:wrap;\n",
              "      gap: 12px;\n",
              "    }\n",
              "\n",
              "    .colab-df-convert {\n",
              "      background-color: #E8F0FE;\n",
              "      border: none;\n",
              "      border-radius: 50%;\n",
              "      cursor: pointer;\n",
              "      display: none;\n",
              "      fill: #1967D2;\n",
              "      height: 32px;\n",
              "      padding: 0 0 0 0;\n",
              "      width: 32px;\n",
              "    }\n",
              "\n",
              "    .colab-df-convert:hover {\n",
              "      background-color: #E2EBFA;\n",
              "      box-shadow: 0px 1px 2px rgba(60, 64, 67, 0.3), 0px 1px 3px 1px rgba(60, 64, 67, 0.15);\n",
              "      fill: #174EA6;\n",
              "    }\n",
              "\n",
              "    [theme=dark] .colab-df-convert {\n",
              "      background-color: #3B4455;\n",
              "      fill: #D2E3FC;\n",
              "    }\n",
              "\n",
              "    [theme=dark] .colab-df-convert:hover {\n",
              "      background-color: #434B5C;\n",
              "      box-shadow: 0px 1px 3px 1px rgba(0, 0, 0, 0.15);\n",
              "      filter: drop-shadow(0px 1px 2px rgba(0, 0, 0, 0.3));\n",
              "      fill: #FFFFFF;\n",
              "    }\n",
              "  </style>\n",
              "\n",
              "      <script>\n",
              "        const buttonEl =\n",
              "          document.querySelector('#df-60287104-9b06-4891-bd86-87dd05ae7fed button.colab-df-convert');\n",
              "        buttonEl.style.display =\n",
              "          google.colab.kernel.accessAllowed ? 'block' : 'none';\n",
              "\n",
              "        async function convertToInteractive(key) {\n",
              "          const element = document.querySelector('#df-60287104-9b06-4891-bd86-87dd05ae7fed');\n",
              "          const dataTable =\n",
              "            await google.colab.kernel.invokeFunction('convertToInteractive',\n",
              "                                                     [key], {});\n",
              "          if (!dataTable) return;\n",
              "\n",
              "          const docLinkHtml = 'Like what you see? Visit the ' +\n",
              "            '<a target=\"_blank\" href=https://colab.research.google.com/notebooks/data_table.ipynb>data table notebook</a>'\n",
              "            + ' to learn more about interactive tables.';\n",
              "          element.innerHTML = '';\n",
              "          dataTable['output_type'] = 'display_data';\n",
              "          await google.colab.output.renderOutput(dataTable, element);\n",
              "          const docLink = document.createElement('div');\n",
              "          docLink.innerHTML = docLinkHtml;\n",
              "          element.appendChild(docLink);\n",
              "        }\n",
              "      </script>\n",
              "    </div>\n",
              "  </div>\n",
              "  "
            ]
          },
          "metadata": {},
          "execution_count": 9
        }
      ]
    },
    {
      "cell_type": "markdown",
      "source": [
        "###**TEXT MINING**"
      ],
      "metadata": {
        "id": "vv9t2ypTVhku"
      }
    },
    {
      "cell_type": "code",
      "source": [
        "#substract only descriptin (text data) and classes\n",
        "text_df = clean_df[['description','name']]\n",
        "text_df.head()"
      ],
      "metadata": {
        "colab": {
          "base_uri": "https://localhost:8080/",
          "height": 206
        },
        "id": "0XORlTkvVkfY",
        "outputId": "2a0add11-dbfe-470f-8c14-c8b42d677079"
      },
      "execution_count": null,
      "outputs": [
        {
          "output_type": "execute_result",
          "data": {
            "text/plain": [
              "                                         description        name\n",
              "0        Public journal | Getting 1% better everyday  BurgerKing\n",
              "1       He/They Gaymer Artist :D Discord: alii #8474  BurgerKing\n",
              "3                                                  🤨  BurgerKing\n",
              "4  Retired @Twitch OG, gamer, wife, fur mama, & #...  BurgerKing\n",
              "5                                                🇲🇽💞  BurgerKing"
            ],
            "text/html": [
              "\n",
              "  <div id=\"df-6d5069ea-dbdc-4cd2-a2b7-20ad0667423d\">\n",
              "    <div class=\"colab-df-container\">\n",
              "      <div>\n",
              "<style scoped>\n",
              "    .dataframe tbody tr th:only-of-type {\n",
              "        vertical-align: middle;\n",
              "    }\n",
              "\n",
              "    .dataframe tbody tr th {\n",
              "        vertical-align: top;\n",
              "    }\n",
              "\n",
              "    .dataframe thead th {\n",
              "        text-align: right;\n",
              "    }\n",
              "</style>\n",
              "<table border=\"1\" class=\"dataframe\">\n",
              "  <thead>\n",
              "    <tr style=\"text-align: right;\">\n",
              "      <th></th>\n",
              "      <th>description</th>\n",
              "      <th>name</th>\n",
              "    </tr>\n",
              "  </thead>\n",
              "  <tbody>\n",
              "    <tr>\n",
              "      <th>0</th>\n",
              "      <td>Public journal | Getting 1% better everyday</td>\n",
              "      <td>BurgerKing</td>\n",
              "    </tr>\n",
              "    <tr>\n",
              "      <th>1</th>\n",
              "      <td>He/They Gaymer Artist :D Discord: alii #8474</td>\n",
              "      <td>BurgerKing</td>\n",
              "    </tr>\n",
              "    <tr>\n",
              "      <th>3</th>\n",
              "      <td>🤨</td>\n",
              "      <td>BurgerKing</td>\n",
              "    </tr>\n",
              "    <tr>\n",
              "      <th>4</th>\n",
              "      <td>Retired @Twitch OG, gamer, wife, fur mama, &amp; #...</td>\n",
              "      <td>BurgerKing</td>\n",
              "    </tr>\n",
              "    <tr>\n",
              "      <th>5</th>\n",
              "      <td>🇲🇽💞</td>\n",
              "      <td>BurgerKing</td>\n",
              "    </tr>\n",
              "  </tbody>\n",
              "</table>\n",
              "</div>\n",
              "      <button class=\"colab-df-convert\" onclick=\"convertToInteractive('df-6d5069ea-dbdc-4cd2-a2b7-20ad0667423d')\"\n",
              "              title=\"Convert this dataframe to an interactive table.\"\n",
              "              style=\"display:none;\">\n",
              "        \n",
              "  <svg xmlns=\"http://www.w3.org/2000/svg\" height=\"24px\"viewBox=\"0 0 24 24\"\n",
              "       width=\"24px\">\n",
              "    <path d=\"M0 0h24v24H0V0z\" fill=\"none\"/>\n",
              "    <path d=\"M18.56 5.44l.94 2.06.94-2.06 2.06-.94-2.06-.94-.94-2.06-.94 2.06-2.06.94zm-11 1L8.5 8.5l.94-2.06 2.06-.94-2.06-.94L8.5 2.5l-.94 2.06-2.06.94zm10 10l.94 2.06.94-2.06 2.06-.94-2.06-.94-.94-2.06-.94 2.06-2.06.94z\"/><path d=\"M17.41 7.96l-1.37-1.37c-.4-.4-.92-.59-1.43-.59-.52 0-1.04.2-1.43.59L10.3 9.45l-7.72 7.72c-.78.78-.78 2.05 0 2.83L4 21.41c.39.39.9.59 1.41.59.51 0 1.02-.2 1.41-.59l7.78-7.78 2.81-2.81c.8-.78.8-2.07 0-2.86zM5.41 20L4 18.59l7.72-7.72 1.47 1.35L5.41 20z\"/>\n",
              "  </svg>\n",
              "      </button>\n",
              "      \n",
              "  <style>\n",
              "    .colab-df-container {\n",
              "      display:flex;\n",
              "      flex-wrap:wrap;\n",
              "      gap: 12px;\n",
              "    }\n",
              "\n",
              "    .colab-df-convert {\n",
              "      background-color: #E8F0FE;\n",
              "      border: none;\n",
              "      border-radius: 50%;\n",
              "      cursor: pointer;\n",
              "      display: none;\n",
              "      fill: #1967D2;\n",
              "      height: 32px;\n",
              "      padding: 0 0 0 0;\n",
              "      width: 32px;\n",
              "    }\n",
              "\n",
              "    .colab-df-convert:hover {\n",
              "      background-color: #E2EBFA;\n",
              "      box-shadow: 0px 1px 2px rgba(60, 64, 67, 0.3), 0px 1px 3px 1px rgba(60, 64, 67, 0.15);\n",
              "      fill: #174EA6;\n",
              "    }\n",
              "\n",
              "    [theme=dark] .colab-df-convert {\n",
              "      background-color: #3B4455;\n",
              "      fill: #D2E3FC;\n",
              "    }\n",
              "\n",
              "    [theme=dark] .colab-df-convert:hover {\n",
              "      background-color: #434B5C;\n",
              "      box-shadow: 0px 1px 3px 1px rgba(0, 0, 0, 0.15);\n",
              "      filter: drop-shadow(0px 1px 2px rgba(0, 0, 0, 0.3));\n",
              "      fill: #FFFFFF;\n",
              "    }\n",
              "  </style>\n",
              "\n",
              "      <script>\n",
              "        const buttonEl =\n",
              "          document.querySelector('#df-6d5069ea-dbdc-4cd2-a2b7-20ad0667423d button.colab-df-convert');\n",
              "        buttonEl.style.display =\n",
              "          google.colab.kernel.accessAllowed ? 'block' : 'none';\n",
              "\n",
              "        async function convertToInteractive(key) {\n",
              "          const element = document.querySelector('#df-6d5069ea-dbdc-4cd2-a2b7-20ad0667423d');\n",
              "          const dataTable =\n",
              "            await google.colab.kernel.invokeFunction('convertToInteractive',\n",
              "                                                     [key], {});\n",
              "          if (!dataTable) return;\n",
              "\n",
              "          const docLinkHtml = 'Like what you see? Visit the ' +\n",
              "            '<a target=\"_blank\" href=https://colab.research.google.com/notebooks/data_table.ipynb>data table notebook</a>'\n",
              "            + ' to learn more about interactive tables.';\n",
              "          element.innerHTML = '';\n",
              "          dataTable['output_type'] = 'display_data';\n",
              "          await google.colab.output.renderOutput(dataTable, element);\n",
              "          const docLink = document.createElement('div');\n",
              "          docLink.innerHTML = docLinkHtml;\n",
              "          element.appendChild(docLink);\n",
              "        }\n",
              "      </script>\n",
              "    </div>\n",
              "  </div>\n",
              "  "
            ]
          },
          "metadata": {},
          "execution_count": 10
        }
      ]
    },
    {
      "cell_type": "markdown",
      "source": [
        "###**DATA CLEANING**"
      ],
      "metadata": {
        "id": "SMVOOsVXV01x"
      }
    },
    {
      "cell_type": "code",
      "source": [
        "punctuation = set(punctuation) # speeds up comparison\n",
        "\n",
        "def remove_punc(text):\n",
        "  text_nonpunc =\"\".join([char for char in text if char not in punctuation])\n",
        "  return text_nonpunc\n",
        "\n",
        "# Define Tokenization Function\n",
        "#To keep the emojis while tokenizing\n",
        "RE_TOKEN = re.compile(r\"\"\"\n",
        "                   ( [#]?[@\\w'’\\.\\-\\:]*\\w     # words, hashtags and email addresses\n",
        "                   | [:;<]\\-?[\\)\\(3]          # coarse pattern for basic text emojis\n",
        "                   | [\\U0001F100-\\U0001FFFF]  # coarse code range for unicode emojis\n",
        "                   )\n",
        "                  \"\"\", re.VERBOSE)\n",
        "\n",
        "def tokenize(text):\n",
        "  return text.split()\n",
        "\n",
        "# Define Stop Words Remove Function\n",
        "stopwords = set(nltk.corpus.stopwords.words('english'))\n",
        "\n",
        "def remove_stop(text):\n",
        "  return [t for t in text if t not in stopwords]\n",
        "\n",
        "\n",
        "# Define pipeline of lowering, no punctuation, tokenization, and removal of stopwords\n",
        "pipeline = [str.lower, remove_punc,tokenize, remove_stop]\n",
        "def prepare(text, pipeline): \n",
        "  tokens = text\n",
        "  for transform in pipeline: tokens = transform(tokens)\n",
        "  return tokens"
      ],
      "metadata": {
        "id": "YDe3WNKdVyOH"
      },
      "execution_count": null,
      "outputs": []
    },
    {
      "cell_type": "code",
      "source": [
        "# change the data frame to string data types\n",
        "text_df = text_df.astype(str)\n",
        "\n",
        "#replace Na values with '' \n",
        "text_df['description'] = text_df['description'].replace(np.nan, '')"
      ],
      "metadata": {
        "id": "qR2Xy0w0V834"
      },
      "execution_count": null,
      "outputs": []
    },
    {
      "cell_type": "code",
      "source": [
        "text_df['clean_desc'] = text_df['description'].apply(prepare, pipeline = pipeline)\n",
        "text_df.head()"
      ],
      "metadata": {
        "colab": {
          "base_uri": "https://localhost:8080/",
          "height": 206
        },
        "id": "RZnsc-pPWDfO",
        "outputId": "c246d7f0-8e3c-4a55-c1be-7bce191db3c4"
      },
      "execution_count": null,
      "outputs": [
        {
          "output_type": "execute_result",
          "data": {
            "text/plain": [
              "                                         description        name  \\\n",
              "0        Public journal | Getting 1% better everyday  BurgerKing   \n",
              "1       He/They Gaymer Artist :D Discord: alii #8474  BurgerKing   \n",
              "3                                                  🤨  BurgerKing   \n",
              "4  Retired @Twitch OG, gamer, wife, fur mama, & #...  BurgerKing   \n",
              "5                                                🇲🇽💞  BurgerKing   \n",
              "\n",
              "                                          clean_desc  \n",
              "0    [public, journal, getting, 1, better, everyday]  \n",
              "1      [hethey, gaymer, artist, discord, alii, 8474]  \n",
              "3                                                [🤨]  \n",
              "4  [retired, twitch, og, gamer, wife, fur, mama, ...  \n",
              "5                                              [🇲🇽💞]  "
            ],
            "text/html": [
              "\n",
              "  <div id=\"df-75afc6a4-4e48-4542-9442-f410bbb52f97\">\n",
              "    <div class=\"colab-df-container\">\n",
              "      <div>\n",
              "<style scoped>\n",
              "    .dataframe tbody tr th:only-of-type {\n",
              "        vertical-align: middle;\n",
              "    }\n",
              "\n",
              "    .dataframe tbody tr th {\n",
              "        vertical-align: top;\n",
              "    }\n",
              "\n",
              "    .dataframe thead th {\n",
              "        text-align: right;\n",
              "    }\n",
              "</style>\n",
              "<table border=\"1\" class=\"dataframe\">\n",
              "  <thead>\n",
              "    <tr style=\"text-align: right;\">\n",
              "      <th></th>\n",
              "      <th>description</th>\n",
              "      <th>name</th>\n",
              "      <th>clean_desc</th>\n",
              "    </tr>\n",
              "  </thead>\n",
              "  <tbody>\n",
              "    <tr>\n",
              "      <th>0</th>\n",
              "      <td>Public journal | Getting 1% better everyday</td>\n",
              "      <td>BurgerKing</td>\n",
              "      <td>[public, journal, getting, 1, better, everyday]</td>\n",
              "    </tr>\n",
              "    <tr>\n",
              "      <th>1</th>\n",
              "      <td>He/They Gaymer Artist :D Discord: alii #8474</td>\n",
              "      <td>BurgerKing</td>\n",
              "      <td>[hethey, gaymer, artist, discord, alii, 8474]</td>\n",
              "    </tr>\n",
              "    <tr>\n",
              "      <th>3</th>\n",
              "      <td>🤨</td>\n",
              "      <td>BurgerKing</td>\n",
              "      <td>[🤨]</td>\n",
              "    </tr>\n",
              "    <tr>\n",
              "      <th>4</th>\n",
              "      <td>Retired @Twitch OG, gamer, wife, fur mama, &amp; #...</td>\n",
              "      <td>BurgerKing</td>\n",
              "      <td>[retired, twitch, og, gamer, wife, fur, mama, ...</td>\n",
              "    </tr>\n",
              "    <tr>\n",
              "      <th>5</th>\n",
              "      <td>🇲🇽💞</td>\n",
              "      <td>BurgerKing</td>\n",
              "      <td>[🇲🇽💞]</td>\n",
              "    </tr>\n",
              "  </tbody>\n",
              "</table>\n",
              "</div>\n",
              "      <button class=\"colab-df-convert\" onclick=\"convertToInteractive('df-75afc6a4-4e48-4542-9442-f410bbb52f97')\"\n",
              "              title=\"Convert this dataframe to an interactive table.\"\n",
              "              style=\"display:none;\">\n",
              "        \n",
              "  <svg xmlns=\"http://www.w3.org/2000/svg\" height=\"24px\"viewBox=\"0 0 24 24\"\n",
              "       width=\"24px\">\n",
              "    <path d=\"M0 0h24v24H0V0z\" fill=\"none\"/>\n",
              "    <path d=\"M18.56 5.44l.94 2.06.94-2.06 2.06-.94-2.06-.94-.94-2.06-.94 2.06-2.06.94zm-11 1L8.5 8.5l.94-2.06 2.06-.94-2.06-.94L8.5 2.5l-.94 2.06-2.06.94zm10 10l.94 2.06.94-2.06 2.06-.94-2.06-.94-.94-2.06-.94 2.06-2.06.94z\"/><path d=\"M17.41 7.96l-1.37-1.37c-.4-.4-.92-.59-1.43-.59-.52 0-1.04.2-1.43.59L10.3 9.45l-7.72 7.72c-.78.78-.78 2.05 0 2.83L4 21.41c.39.39.9.59 1.41.59.51 0 1.02-.2 1.41-.59l7.78-7.78 2.81-2.81c.8-.78.8-2.07 0-2.86zM5.41 20L4 18.59l7.72-7.72 1.47 1.35L5.41 20z\"/>\n",
              "  </svg>\n",
              "      </button>\n",
              "      \n",
              "  <style>\n",
              "    .colab-df-container {\n",
              "      display:flex;\n",
              "      flex-wrap:wrap;\n",
              "      gap: 12px;\n",
              "    }\n",
              "\n",
              "    .colab-df-convert {\n",
              "      background-color: #E8F0FE;\n",
              "      border: none;\n",
              "      border-radius: 50%;\n",
              "      cursor: pointer;\n",
              "      display: none;\n",
              "      fill: #1967D2;\n",
              "      height: 32px;\n",
              "      padding: 0 0 0 0;\n",
              "      width: 32px;\n",
              "    }\n",
              "\n",
              "    .colab-df-convert:hover {\n",
              "      background-color: #E2EBFA;\n",
              "      box-shadow: 0px 1px 2px rgba(60, 64, 67, 0.3), 0px 1px 3px 1px rgba(60, 64, 67, 0.15);\n",
              "      fill: #174EA6;\n",
              "    }\n",
              "\n",
              "    [theme=dark] .colab-df-convert {\n",
              "      background-color: #3B4455;\n",
              "      fill: #D2E3FC;\n",
              "    }\n",
              "\n",
              "    [theme=dark] .colab-df-convert:hover {\n",
              "      background-color: #434B5C;\n",
              "      box-shadow: 0px 1px 3px 1px rgba(0, 0, 0, 0.15);\n",
              "      filter: drop-shadow(0px 1px 2px rgba(0, 0, 0, 0.3));\n",
              "      fill: #FFFFFF;\n",
              "    }\n",
              "  </style>\n",
              "\n",
              "      <script>\n",
              "        const buttonEl =\n",
              "          document.querySelector('#df-75afc6a4-4e48-4542-9442-f410bbb52f97 button.colab-df-convert');\n",
              "        buttonEl.style.display =\n",
              "          google.colab.kernel.accessAllowed ? 'block' : 'none';\n",
              "\n",
              "        async function convertToInteractive(key) {\n",
              "          const element = document.querySelector('#df-75afc6a4-4e48-4542-9442-f410bbb52f97');\n",
              "          const dataTable =\n",
              "            await google.colab.kernel.invokeFunction('convertToInteractive',\n",
              "                                                     [key], {});\n",
              "          if (!dataTable) return;\n",
              "\n",
              "          const docLinkHtml = 'Like what you see? Visit the ' +\n",
              "            '<a target=\"_blank\" href=https://colab.research.google.com/notebooks/data_table.ipynb>data table notebook</a>'\n",
              "            + ' to learn more about interactive tables.';\n",
              "          element.innerHTML = '';\n",
              "          dataTable['output_type'] = 'display_data';\n",
              "          await google.colab.output.renderOutput(dataTable, element);\n",
              "          const docLink = document.createElement('div');\n",
              "          docLink.innerHTML = docLinkHtml;\n",
              "          element.appendChild(docLink);\n",
              "        }\n",
              "      </script>\n",
              "    </div>\n",
              "  </div>\n",
              "  "
            ]
          },
          "metadata": {},
          "execution_count": 13
        }
      ]
    }
  ]
}