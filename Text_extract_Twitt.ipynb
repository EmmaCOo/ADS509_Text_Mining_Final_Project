{
 "cells": [
  {
   "cell_type": "code",
   "execution_count": 2,
   "id": "entertaining-value",
   "metadata": {},
   "outputs": [],
   "source": [
    "#library installation \n",
    "import tweepy\n",
    "from api_keys import api_key, api_key_secret, bearer_token\n",
    "import os\n",
    "import requests\n",
    "import csv\n",
    "import pandas as pd\n",
    "import numpy as np"
   ]
  },
  {
   "cell_type": "code",
   "execution_count": null,
   "id": "developing-workstation",
   "metadata": {},
   "outputs": [],
   "source": [
    "# game plan\n",
    "#0) get names,id\n",
    "#1) get the tweets (messages,likes,reply count)\n",
    "#2) \n",
    "#3)\n",
    "\n",
    "\n",
    "#1568829013178859522-1otxBEE2YVe3pGOkPGiQAGMUnZlC3d\n",
    "#0lHu1BkeHByzKMXUOz5aA0v72fJCMDaeNCfV0TEBzBh7s\n"
   ]
  },
  {
   "cell_type": "code",
   "execution_count": 23,
   "id": "lined-shannon",
   "metadata": {},
   "outputs": [],
   "source": [
    "#setup client\n",
    "client = tweepy.Client(bearer_token,wait_on_rate_limit=True)\n"
   ]
  },
  {
   "cell_type": "code",
   "execution_count": 40,
   "id": "settled-mattress",
   "metadata": {},
   "outputs": [],
   "source": [
    "#Fetch ID's    https://stackoverflow.com/questions/42943934/tweepy-look-up-id-with-username\n",
    "def fetch_ID(name):\n",
    "    users = client.get_users(usernames=name)\n",
    "    for user in users.data:\n",
    "        return user.id\n",
    "\n",
    "\n"
   ]
  },
  {
   "cell_type": "code",
   "execution_count": 36,
   "id": "surgical-checklist",
   "metadata": {},
   "outputs": [],
   "source": [
    "#variable storage bin\n",
    "name = [\"McDonalds\",'Wendys','sonicdrivein','JackBox','shakeshack']\n",
    "mc_id = '71026122'\n",
    "wendy_id='59553554'\n",
    "sonic='40349928'\n",
    "JackBox='18956020'\n",
    "shakeshack='212255045'"
   ]
  },
  {
   "cell_type": "code",
   "execution_count": 11,
   "id": "abandoned-cancer",
   "metadata": {},
   "outputs": [],
   "source": [
    "# Fastfood User Responce (message,ID, ,Likes) \n",
    "tweet_fields=[\"public_metrics\"]\n",
    "message=[]\n",
    "    #ID = []\n",
    "like_count = []\n",
    "for response in tweepy.Paginator(client.get_users_mentions,212255045,max_results=100,tweet_fields=tweet_fields):\n",
    "    for msg in response.data :\n",
    "        message.append(msg)\n",
    "        #ID.append(msg.id)\n",
    "        like_count.append(str(msg.public_metrics.get('like_count')))\n",
    "            \n"
   ]
  },
  {
   "cell_type": "code",
   "execution_count": null,
   "id": "legendary-skirt",
   "metadata": {},
   "outputs": [],
   "source": []
  },
  {
   "cell_type": "code",
   "execution_count": 8,
   "id": "unauthorized-serial",
   "metadata": {},
   "outputs": [
    {
     "data": {
      "text/plain": [
       "(['0'],\n",
       " [<Tweet id=1582212407660724225 text='Like 2/10 @shakeshack experience. I was handed a soupy shake off a tray of pre made shakes then I get home to find that it looks like I was given all the left over fries.'>])"
      ]
     },
     "execution_count": 8,
     "metadata": {},
     "output_type": "execute_result"
    }
   ],
   "source": [
    "=user_response(212255045)"
   ]
  },
  {
   "cell_type": "code",
   "execution_count": 12,
   "id": "future-arrest",
   "metadata": {},
   "outputs": [],
   "source": [
    "#Convert to dataframe test  - can skip or ignore\n",
    "df = pd.DataFrame(message) \n",
    "df = df.iloc[: , 1:]\n",
    "df[\"likecount\"]=like_count\n",
    "\n",
    "csv_data = df.to_csv('shakeshack_test')"
   ]
  },
  {
   "cell_type": "code",
   "execution_count": 15,
   "id": "unknown-anthropology",
   "metadata": {},
   "outputs": [
    {
     "data": {
      "text/html": [
       "<div>\n",
       "<style scoped>\n",
       "    .dataframe tbody tr th:only-of-type {\n",
       "        vertical-align: middle;\n",
       "    }\n",
       "\n",
       "    .dataframe tbody tr th {\n",
       "        vertical-align: top;\n",
       "    }\n",
       "\n",
       "    .dataframe thead th {\n",
       "        text-align: right;\n",
       "    }\n",
       "</style>\n",
       "<table border=\"1\" class=\"dataframe\">\n",
       "  <thead>\n",
       "    <tr style=\"text-align: right;\">\n",
       "      <th></th>\n",
       "      <th>id</th>\n",
       "      <th>public_metrics</th>\n",
       "      <th>text</th>\n",
       "      <th>likecount</th>\n",
       "    </tr>\n",
       "  </thead>\n",
       "  <tbody>\n",
       "    <tr>\n",
       "      <th>0</th>\n",
       "      <td>1582212407660724225</td>\n",
       "      <td>{'retweet_count': 0, 'reply_count': 0, 'like_c...</td>\n",
       "      <td>Like 2/10 @shakeshack experience. I was handed...</td>\n",
       "      <td>0</td>\n",
       "    </tr>\n",
       "    <tr>\n",
       "      <th>1</th>\n",
       "      <td>1582196155969961984</td>\n",
       "      <td>{'retweet_count': 0, 'reply_count': 0, 'like_c...</td>\n",
       "      <td>@CapitalOne @shakeshack @NYCWFF Remember when ...</td>\n",
       "      <td>0</td>\n",
       "    </tr>\n",
       "    <tr>\n",
       "      <th>2</th>\n",
       "      <td>1582189612612521985</td>\n",
       "      <td>{'retweet_count': 0, 'reply_count': 0, 'like_c...</td>\n",
       "      <td>Does anyone know why @shakeshack won’t deliver...</td>\n",
       "      <td>0</td>\n",
       "    </tr>\n",
       "    <tr>\n",
       "      <th>3</th>\n",
       "      <td>1582184926002446336</td>\n",
       "      <td>{'retweet_count': 0, 'reply_count': 0, 'like_c...</td>\n",
       "      <td>Hey @shakeshack we have some big ways to get y...</td>\n",
       "      <td>0</td>\n",
       "    </tr>\n",
       "    <tr>\n",
       "      <th>4</th>\n",
       "      <td>1582181168559947776</td>\n",
       "      <td>{'retweet_count': 0, 'reply_count': 1, 'like_c...</td>\n",
       "      <td>me and a cockroach making eye contact just as ...</td>\n",
       "      <td>0</td>\n",
       "    </tr>\n",
       "  </tbody>\n",
       "</table>\n",
       "</div>"
      ],
      "text/plain": [
       "                    id                                     public_metrics  \\\n",
       "0  1582212407660724225  {'retweet_count': 0, 'reply_count': 0, 'like_c...   \n",
       "1  1582196155969961984  {'retweet_count': 0, 'reply_count': 0, 'like_c...   \n",
       "2  1582189612612521985  {'retweet_count': 0, 'reply_count': 0, 'like_c...   \n",
       "3  1582184926002446336  {'retweet_count': 0, 'reply_count': 0, 'like_c...   \n",
       "4  1582181168559947776  {'retweet_count': 0, 'reply_count': 1, 'like_c...   \n",
       "\n",
       "                                                text likecount  \n",
       "0  Like 2/10 @shakeshack experience. I was handed...         0  \n",
       "1  @CapitalOne @shakeshack @NYCWFF Remember when ...         0  \n",
       "2  Does anyone know why @shakeshack won’t deliver...         0  \n",
       "3  Hey @shakeshack we have some big ways to get y...         0  \n",
       "4  me and a cockroach making eye contact just as ...         0  "
      ]
     },
     "execution_count": 15,
     "metadata": {},
     "output_type": "execute_result"
    }
   ],
   "source": [
    "df.head()"
   ]
  },
  {
   "cell_type": "code",
   "execution_count": 18,
   "id": "encouraging-perspective",
   "metadata": {},
   "outputs": [
    {
     "name": "stdout",
     "output_type": "stream",
     "text": [
      "Size =  (839, 4)\n"
     ]
    }
   ],
   "source": [
    "print('Size = ', df.shape)"
   ]
  },
  {
   "cell_type": "code",
   "execution_count": 26,
   "id": "impressed-majority",
   "metadata": {},
   "outputs": [],
   "source": [
    "#for status in tweepy.Paginator(client.get_users_tweets,71026122,max_results=5, limit=1 ):\n",
    "#    for msg in response.data :\n",
    " #       print(msg)\n",
    "query = 'from:shakeshack -is:retweet'\n",
    "tweet_fields=['author_id', 'created_at','id',\"public_metrics\"]        \n",
    "message=[]\n",
    "like_count = []\n",
    "for response in tweepy.Paginator(client.search_recent_tweets,query,max_results=100,tweet_fields=tweet_fields):\n",
    "    for msg in response.data :\n",
    "        message.append(msg)\n",
    "        like_count.append(str(msg.public_metrics.get('like_count')))\n",
    "            \n"
   ]
  },
  {
   "cell_type": "code",
   "execution_count": 81,
   "id": "norman-politics",
   "metadata": {},
   "outputs": [
    {
     "data": {
      "text/html": [
       "<div>\n",
       "<style scoped>\n",
       "    .dataframe tbody tr th:only-of-type {\n",
       "        vertical-align: middle;\n",
       "    }\n",
       "\n",
       "    .dataframe tbody tr th {\n",
       "        vertical-align: top;\n",
       "    }\n",
       "\n",
       "    .dataframe thead th {\n",
       "        text-align: right;\n",
       "    }\n",
       "</style>\n",
       "<table border=\"1\" class=\"dataframe\">\n",
       "  <thead>\n",
       "    <tr style=\"text-align: right;\">\n",
       "      <th></th>\n",
       "      <th>author_id</th>\n",
       "      <th>created_at</th>\n",
       "      <th>edit_history_tweet_ids</th>\n",
       "      <th>id</th>\n",
       "      <th>public_metrics</th>\n",
       "      <th>text</th>\n",
       "      <th>likecount</th>\n",
       "    </tr>\n",
       "  </thead>\n",
       "  <tbody>\n",
       "    <tr>\n",
       "      <th>0</th>\n",
       "      <td>212255045</td>\n",
       "      <td>2022-10-17 16:00:46+00:00</td>\n",
       "      <td>[1582038921491668992]</td>\n",
       "      <td>1582038921491668992</td>\n",
       "      <td>{'retweet_count': 1, 'reply_count': 0, 'like_c...</td>\n",
       "      <td>Some Shack greens to start the week. \\n\\nIG Cr...</td>\n",
       "      <td>7</td>\n",
       "    </tr>\n",
       "    <tr>\n",
       "      <th>1</th>\n",
       "      <td>212255045</td>\n",
       "      <td>2022-10-16 22:34:23+00:00</td>\n",
       "      <td>[1581775591027617792]</td>\n",
       "      <td>1581775591027617792</td>\n",
       "      <td>{'retweet_count': 0, 'reply_count': 1, 'like_c...</td>\n",
       "      <td>@1ChrisW We’d love to chat further about your ...</td>\n",
       "      <td>0</td>\n",
       "    </tr>\n",
       "    <tr>\n",
       "      <th>2</th>\n",
       "      <td>212255045</td>\n",
       "      <td>2022-10-16 22:29:47+00:00</td>\n",
       "      <td>[1581774431935811584]</td>\n",
       "      <td>1581774431935811584</td>\n",
       "      <td>{'retweet_count': 0, 'reply_count': 0, 'like_c...</td>\n",
       "      <td>@ctygrl99 We’re bummed to hear your feedback! ...</td>\n",
       "      <td>0</td>\n",
       "    </tr>\n",
       "    <tr>\n",
       "      <th>3</th>\n",
       "      <td>212255045</td>\n",
       "      <td>2022-10-16 22:29:17+00:00</td>\n",
       "      <td>[1581774306631372800]</td>\n",
       "      <td>1581774306631372800</td>\n",
       "      <td>{'retweet_count': 0, 'reply_count': 0, 'like_c...</td>\n",
       "      <td>@mymytheweird00 This doesn't sound up to our s...</td>\n",
       "      <td>0</td>\n",
       "    </tr>\n",
       "    <tr>\n",
       "      <th>4</th>\n",
       "      <td>212255045</td>\n",
       "      <td>2022-10-16 22:29:15+00:00</td>\n",
       "      <td>[1581774299022565376]</td>\n",
       "      <td>1581774299022565376</td>\n",
       "      <td>{'retweet_count': 0, 'reply_count': 0, 'like_c...</td>\n",
       "      <td>@lfishe3 We always aim to bring you the best i...</td>\n",
       "      <td>0</td>\n",
       "    </tr>\n",
       "  </tbody>\n",
       "</table>\n",
       "</div>"
      ],
      "text/plain": [
       "   author_id                created_at edit_history_tweet_ids  \\\n",
       "0  212255045 2022-10-17 16:00:46+00:00  [1582038921491668992]   \n",
       "1  212255045 2022-10-16 22:34:23+00:00  [1581775591027617792]   \n",
       "2  212255045 2022-10-16 22:29:47+00:00  [1581774431935811584]   \n",
       "3  212255045 2022-10-16 22:29:17+00:00  [1581774306631372800]   \n",
       "4  212255045 2022-10-16 22:29:15+00:00  [1581774299022565376]   \n",
       "\n",
       "                    id                                     public_metrics  \\\n",
       "0  1582038921491668992  {'retweet_count': 1, 'reply_count': 0, 'like_c...   \n",
       "1  1581775591027617792  {'retweet_count': 0, 'reply_count': 1, 'like_c...   \n",
       "2  1581774431935811584  {'retweet_count': 0, 'reply_count': 0, 'like_c...   \n",
       "3  1581774306631372800  {'retweet_count': 0, 'reply_count': 0, 'like_c...   \n",
       "4  1581774299022565376  {'retweet_count': 0, 'reply_count': 0, 'like_c...   \n",
       "\n",
       "                                                text likecount  \n",
       "0  Some Shack greens to start the week. \\n\\nIG Cr...         7  \n",
       "1  @1ChrisW We’d love to chat further about your ...         0  \n",
       "2  @ctygrl99 We’re bummed to hear your feedback! ...         0  \n",
       "3  @mymytheweird00 This doesn't sound up to our s...         0  \n",
       "4  @lfishe3 We always aim to bring you the best i...         0  "
      ]
     },
     "execution_count": 81,
     "metadata": {},
     "output_type": "execute_result"
    }
   ],
   "source": [
    "#print method and put in df\n",
    "df = pd.DataFrame(message) \n",
    "#df = df.iloc[: , 1:]\n",
    "df[\"likecount\"]=like_count\n",
    "\n",
    "csv_data = df.to_csv('shakeshack')\n",
    "df.head()\n"
   ]
  },
  {
   "cell_type": "code",
   "execution_count": 123,
   "id": "reduced-litigation",
   "metadata": {},
   "outputs": [
    {
     "name": "stdout",
     "output_type": "stream",
     "text": [
      "{'edit_history_tweet_ids': ['1581684715916234752'], 'id': '1581684715916234752', 'text': \"@davidlopez85 this shouldn't be happening, David. let's talk here: https://t.co/B5vmhl4qIk\"}\n"
     ]
    }
   ],
   "source": [
    "tweets = client.get_users_tweets(id=71026122)\n",
    "\n",
    "for tweet in tweets.data:\n",
    "    print(tweet.id)\n"
   ]
  },
  {
   "cell_type": "code",
   "execution_count": 5,
   "id": "literary-polish",
   "metadata": {},
   "outputs": [
    {
     "name": "stdout",
     "output_type": "stream",
     "text": [
      "@lust4lifelaura hiiiiiiii\n",
      "7\n",
      "4\n",
      "https://t.co/W8EugGOUMD https://t.co/EmIXYN1SML\n",
      "169\n",
      "19\n",
      "we love that https://t.co/L5Le9WtuAr\n",
      "893\n",
      "85\n"
     ]
    }
   ],
   "source": [
    "# can be used later if anything goes wrong \n",
    "tweet_fields=[\"text\", \"lang\", \"public_metrics\"]\n",
    "store1 = ['1581745862652280832','1581745509441556482','1581414595939700736']\n",
    "for i in store1:\n",
    "    tweets = client.get_tweet(id=i,user_auth=False,tweet_fields=tweet_fields)\n",
    "    tweet = tweets.data\n",
    "    print(tweet.text)\n",
    "    print(tweet.public_metrics.get('like_count'))  \n",
    "    print(tweet.public_metrics.get('reply_count'))"
   ]
  },
  {
   "cell_type": "code",
   "execution_count": null,
   "id": "protected-costa",
   "metadata": {},
   "outputs": [],
   "source": []
  }
 ],
 "metadata": {
  "kernelspec": {
   "display_name": "Python 3",
   "language": "python",
   "name": "python3"
  },
  "language_info": {
   "codemirror_mode": {
    "name": "ipython",
    "version": 3
   },
   "file_extension": ".py",
   "mimetype": "text/x-python",
   "name": "python",
   "nbconvert_exporter": "python",
   "pygments_lexer": "ipython3",
   "version": "3.9.2"
  }
 },
 "nbformat": 4,
 "nbformat_minor": 5
}
